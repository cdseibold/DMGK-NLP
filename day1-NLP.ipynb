{
 "cells": [
  {
   "cell_type": "code",
   "execution_count": 2,
   "id": "5614aff5",
   "metadata": {},
   "outputs": [
    {
     "name": "stdout",
     "output_type": "stream",
     "text": [
      "ollah\n",
      "None\n"
     ]
    }
   ],
   "source": [
    "def reverse (x):\n",
    "    print (x[::-1])\n",
    "\n",
    "test=reverse(\"hallo\")\n",
    "print (test)\n",
    "    "
   ]
  },
  {
   "cell_type": "code",
   "execution_count": 37,
   "id": "e23e33c9",
   "metadata": {},
   "outputs": [
    {
     "ename": "SyntaxError",
     "evalue": "invalid syntax (1432498338.py, line 11)",
     "output_type": "error",
     "traceback": [
      "\u001b[1;36m  File \u001b[1;32m\"C:\\Users\\clara\\AppData\\Local\\Temp\\ipykernel_7416\\1432498338.py\"\u001b[1;36m, line \u001b[1;32m11\u001b[0m\n\u001b[1;33m    testi = calcUpAndLow(\"HAllo\")\u001b[0m\n\u001b[1;37m    ^\u001b[0m\n\u001b[1;31mSyntaxError\u001b[0m\u001b[1;31m:\u001b[0m invalid syntax\n"
     ]
    }
   ],
   "source": [
    "def calcUpAndLow (x):\n",
    "    countUpper = 0\n",
    "    countLower = 0\n",
    "    for n in x:\n",
    "        if n.isupper:\n",
    "            countUpper += 1\n",
    "        elif n.islower():\n",
    "            countLower += 1\n",
    "        return (\"Upper Cases = \"+ str(countUpper)+ \"Lower Cases = \"+str(countLower)\n",
    "        \n",
    "testi = calcUpAndLow(\"HAllo\")\n",
    "print(testi)\n",
    "            \n",
    "        "
   ]
  },
  {
   "cell_type": "code",
   "execution_count": 36,
   "id": "e3995187",
   "metadata": {},
   "outputs": [
    {
     "name": "stdout",
     "output_type": "stream",
     "text": [
      "it´s a palindrome\n"
     ]
    }
   ],
   "source": [
    "def palindromeCheck (wort):\n",
    "    if wort == wort[::-1]:\n",
    "        return(\"it´s a palindrome\")\n",
    "        \n",
    "testwort = palindromeCheck(\"ebbe\")\n",
    "print (testwort)"
   ]
  },
  {
   "cell_type": "markdown",
   "id": "a5a16a03",
   "metadata": {},
   "source": [
    "1. string in einzelne wörter unterteilen\n",
    "2. einzelne wörter alphabetisch sortieren\n",
    "3. wörter wieder mit bindestrich zusammenfügen"
   ]
  },
  {
   "cell_type": "code",
   "execution_count": null,
   "id": "89d06e1a",
   "metadata": {},
   "outputs": [],
   "source": [
    "def sortAlphabetically (sequenceOfWords):\n",
    "    "
   ]
  }
 ],
 "metadata": {
  "kernelspec": {
   "display_name": "Python 3 (ipykernel)",
   "language": "python",
   "name": "python3"
  },
  "language_info": {
   "codemirror_mode": {
    "name": "ipython",
    "version": 3
   },
   "file_extension": ".py",
   "mimetype": "text/x-python",
   "name": "python",
   "nbconvert_exporter": "python",
   "pygments_lexer": "ipython3",
   "version": "3.9.13"
  }
 },
 "nbformat": 4,
 "nbformat_minor": 5
}
